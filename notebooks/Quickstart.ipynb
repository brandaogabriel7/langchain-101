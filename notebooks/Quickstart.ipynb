{
 "cells": [
  {
   "cell_type": "markdown",
   "id": "757048df",
   "metadata": {},
   "source": [
    "# Quickstart - Building A Language Model Application\n",
    "\n",
    "This is based on the examples from [this video](https://www.youtube.com/watch?v=kYRB-vJFy38&list=PLqZXAkvF1bPNQER9mLmDbntNfSpzdDIU5), and the [quickstart docs for LangChain.](https://python.langchain.com/docs/get_started/quickstart)"
   ]
  },
  {
   "cell_type": "code",
   "execution_count": null,
   "id": "fa94c35f-83c2-44bd-a336-559c1ce40a84",
   "metadata": {
    "scrolled": true,
    "slideshow": {
     "slide_type": ""
    },
    "tags": []
   },
   "outputs": [],
   "source": [
    "pip install langchain"
   ]
  },
  {
   "cell_type": "code",
   "execution_count": null,
   "id": "33e3a186-33c7-4283-9dee-3a689ca9eb5b",
   "metadata": {
    "scrolled": true
   },
   "outputs": [],
   "source": [
    "pip install openai"
   ]
  },
  {
   "cell_type": "markdown",
   "id": "f78de80a-387f-4897-b8a1-af2bed0e421a",
   "metadata": {},
   "source": [
    "## LLMS: Get predictions from a language model"
   ]
  },
  {
   "cell_type": "code",
   "execution_count": null,
   "id": "bb4f4f22-270d-4293-afdb-0d01cb9689f4",
   "metadata": {},
   "outputs": [],
   "source": [
    "from langchain.llms import OpenAI"
   ]
  },
  {
   "cell_type": "code",
   "execution_count": null,
   "id": "dd281875-5e64-4f05-83e1-342e71a2cb84",
   "metadata": {},
   "outputs": [],
   "source": [
    "llm = OpenAI(temperature=0.9)"
   ]
  },
  {
   "cell_type": "code",
   "execution_count": null,
   "id": "cde59c61",
   "metadata": {
    "scrolled": true
   },
   "outputs": [],
   "source": [
    "text = \"What are 5 vacation destinations for someone who likes to eat pasta?\"\n",
    "print(llm(text))"
   ]
  },
  {
   "cell_type": "markdown",
   "id": "ffd699ab",
   "metadata": {},
   "source": [
    "## Prompt Templates: Manage prompts from LLMs"
   ]
  },
  {
   "cell_type": "code",
   "execution_count": null,
   "id": "87e5ea66",
   "metadata": {},
   "outputs": [],
   "source": [
    "from langchain.prompts import PromptTemplate"
   ]
  },
  {
   "cell_type": "code",
   "execution_count": null,
   "id": "925588d4",
   "metadata": {},
   "outputs": [],
   "source": [
    "prompt = PromptTemplate(\n",
    "    input_variables=[\"food\"],\n",
    "    template=\"What are 5 vacation destinations for someone who likes to eat {food}?\",\n",
    ")"
   ]
  },
  {
   "cell_type": "code",
   "execution_count": null,
   "id": "6e06423e",
   "metadata": {},
   "outputs": [],
   "source": [
    "dessert_prompt = prompt.format(food=\"dessert\")\n",
    "print(dessert_prompt)"
   ]
  },
  {
   "cell_type": "code",
   "execution_count": null,
   "id": "c68e9004",
   "metadata": {},
   "outputs": [],
   "source": [
    "print(llm(dessert_prompt))"
   ]
  },
  {
   "cell_type": "markdown",
   "id": "03e509d8",
   "metadata": {},
   "source": [
    "## Chains: Combine LLMs and prompts in multi-step workflows"
   ]
  },
  {
   "cell_type": "code",
   "execution_count": null,
   "id": "82bb14f8",
   "metadata": {},
   "outputs": [],
   "source": [
    "from langchain.prompts import PromptTemplate\n",
    "from langchain.llms import OpenAI\n",
    "from langchain.chains import LLMChain"
   ]
  },
  {
   "cell_type": "code",
   "execution_count": null,
   "id": "664bec86",
   "metadata": {},
   "outputs": [],
   "source": [
    "llm = OpenAI(temperature=0.9)\n",
    "\n",
    "prompt = PromptTemplate(\n",
    "    input_variables=[\"food\"],\n",
    "    template=\"What are 5 vacation destinations for someone who likes to eat {food}?\",\n",
    ")"
   ]
  },
  {
   "cell_type": "code",
   "execution_count": null,
   "id": "4b041823",
   "metadata": {},
   "outputs": [],
   "source": [
    "chain = LLMChain(llm=llm, prompt=prompt)"
   ]
  },
  {
   "cell_type": "code",
   "execution_count": null,
   "id": "fc687f1e",
   "metadata": {},
   "outputs": [],
   "source": [
    "print(chain.run(\"fruit\"))"
   ]
  },
  {
   "cell_type": "markdown",
   "id": "61dacf03",
   "metadata": {},
   "source": [
    "## Agents: Dynamically call chains based on user input"
   ]
  },
  {
   "cell_type": "code",
   "execution_count": null,
   "id": "96bbb14e",
   "metadata": {},
   "outputs": [],
   "source": [
    "pip install google-search-results"
   ]
  },
  {
   "cell_type": "code",
   "execution_count": null,
   "id": "81f62c60",
   "metadata": {},
   "outputs": [],
   "source": [
    "from langchain.agents import load_tools\n",
    "from langchain.agents import initialize_agent\n",
    "from langchain.llms import OpenAI"
   ]
  },
  {
   "cell_type": "code",
   "execution_count": null,
   "id": "f55439f0",
   "metadata": {},
   "outputs": [],
   "source": [
    "# Load the model\n",
    "llm = OpenAI(temperature=0)"
   ]
  },
  {
   "cell_type": "code",
   "execution_count": null,
   "id": "7b199acd",
   "metadata": {},
   "outputs": [],
   "source": [
    "# Load in some tools to use\n",
    "\n",
    "tools = load_tools([\"serpapi\", \"llm-math\"], llm=llm)"
   ]
  },
  {
   "cell_type": "code",
   "execution_count": null,
   "id": "00f96f7d",
   "metadata": {},
   "outputs": [],
   "source": [
    "# Finally, let's initialize an agent with:\n",
    "# 1. The tools\n",
    "# 2. The language model\n",
    "# 3. The type of agent we want to use.\n",
    "\n",
    "agent = initialize_agent(tools, llm, agent=\"zero-shot-react-description\", verbose=True)"
   ]
  },
  {
   "cell_type": "markdown",
   "id": "853ba06f",
   "metadata": {},
   "source": [
    "See list of agents types [here](https://python.langchain.com/docs/modules/agents/agent_types/)."
   ]
  },
  {
   "cell_type": "code",
   "execution_count": null,
   "id": "238d0d0d",
   "metadata": {},
   "outputs": [],
   "source": [
    "# Now let's test it out!\n",
    "agent.run(\"Who is the current leader of Japan? What is the largest prime number that is smaller their age?\")"
   ]
  },
  {
   "cell_type": "markdown",
   "id": "c421f8af",
   "metadata": {},
   "source": [
    "## Memory: Add state to chains and agents"
   ]
  },
  {
   "cell_type": "code",
   "execution_count": null,
   "id": "b9ae1234",
   "metadata": {},
   "outputs": [],
   "source": [
    "from langchain import OpenAI, ConversationChain"
   ]
  },
  {
   "cell_type": "code",
   "execution_count": null,
   "id": "bbd7063a",
   "metadata": {},
   "outputs": [],
   "source": [
    "llm = OpenAI(temperature=0)\n",
    "conversation = ConversationChain(llm=llm, verbose=True)"
   ]
  },
  {
   "cell_type": "code",
   "execution_count": null,
   "id": "e11bf789",
   "metadata": {},
   "outputs": [],
   "source": [
    "conversation.predict(input=\"Hi there!\")"
   ]
  },
  {
   "cell_type": "code",
   "execution_count": null,
   "id": "a6478295",
   "metadata": {},
   "outputs": [],
   "source": [
    "conversation.predict(input=\"I'm doing weel! Just having a conversation with an AI.\")"
   ]
  },
  {
   "cell_type": "code",
   "execution_count": null,
   "id": "dd57b17a",
   "metadata": {},
   "outputs": [],
   "source": [
    "conversation.predict(input=\"What was the first thing I said to you?\")"
   ]
  },
  {
   "cell_type": "code",
   "execution_count": null,
   "id": "73ec62b6",
   "metadata": {},
   "outputs": [],
   "source": [
    "conversation.predict(input=\"What is an alternative phrase for the first thing I said to you?\")"
   ]
  }
 ],
 "metadata": {
  "kernelspec": {
   "display_name": "Python 3 (ipykernel)",
   "language": "python",
   "name": "python3"
  },
  "language_info": {
   "codemirror_mode": {
    "name": "ipython",
    "version": 3
   },
   "file_extension": ".py",
   "mimetype": "text/x-python",
   "name": "python",
   "nbconvert_exporter": "python",
   "pygments_lexer": "ipython3",
   "version": "3.11.4"
  }
 },
 "nbformat": 4,
 "nbformat_minor": 5
}
